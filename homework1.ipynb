{
  "nbformat": 4,
  "nbformat_minor": 0,
  "metadata": {
    "colab": {
      "provenance": [],
      "authorship_tag": "ABX9TyPuDOGSDBtc4xvVKaYBERQ5",
      "include_colab_link": true
    },
    "kernelspec": {
      "name": "python3",
      "display_name": "Python 3"
    },
    "language_info": {
      "name": "python"
    }
  },
  "cells": [
    {
      "cell_type": "markdown",
      "metadata": {
        "id": "view-in-github",
        "colab_type": "text"
      },
      "source": [
        "<a href=\"https://colab.research.google.com/github/chrisdamba/stock-markets-analytics-zoomcamp/blob/main/homework1.ipynb\" target=\"_parent\"><img src=\"https://colab.research.google.com/assets/colab-badge.svg\" alt=\"Open In Colab\"/></a>"
      ]
    },
    {
      "cell_type": "code",
      "execution_count": 2,
      "metadata": {
        "id": "_6bD_XCvZdYg"
      },
      "outputs": [],
      "source": [
        "# IMPORTS\n",
        "import numpy as np\n",
        "import pandas as pd\n",
        "\n",
        "#Fin Data Sources\n",
        "import yfinance as yf\n",
        "import pandas_datareader as pdr\n",
        "\n",
        "#Data viz\n",
        "import plotly.graph_objs as go\n",
        "import plotly.express as px\n",
        "\n",
        "import time\n",
        "from datetime import date, datetime"
      ]
    },
    {
      "cell_type": "markdown",
      "source": [
        "### Question 1: [Macro] Average growth of GDP in 2023\n",
        "\n",
        "**What is the average growth (in %) of GDP in 2023?**\n",
        "\n",
        "\n",
        "\n"
      ],
      "metadata": {
        "id": "MnsizVsQZ-Bq"
      }
    },
    {
      "cell_type": "code",
      "source": [
        "# Set the start and end date for data retrieval\n",
        "start = datetime(2020, 1, 1)\n",
        "end = datetime(2023, 12, 31)\n",
        "\n",
        "# Download the GDP data from FRED\n",
        "gdp_data = pdr.DataReader('GDPC1', 'fred', start, end)\n",
        "\n",
        "# Calculate YoY growth rates\n",
        "gdp_data['YoY Growth'] = gdp_data['GDPC1'].pct_change(periods=4) * 100\n",
        "\n",
        "# Filter the data for 2023 and calculate the average growth\n",
        "average_growth_2023 = gdp_data['YoY Growth']['2023'].mean()\n",
        "\n",
        "# Print the rounded result\n",
        "print(f\"The average YoY growth of GDP in 2023 is {average_growth_2023:.1f}%\")"
      ],
      "metadata": {
        "colab": {
          "base_uri": "https://localhost:8080/"
        },
        "id": "pFu_CjEMaiRb",
        "outputId": "48988f60-573b-4191-8659-b2368a7457ac"
      },
      "execution_count": 3,
      "outputs": [
        {
          "output_type": "stream",
          "name": "stdout",
          "text": [
            "The average YoY growth of GDP in 2023 is 2.5%\n"
          ]
        }
      ]
    },
    {
      "cell_type": "markdown",
      "source": [
        "### Question 2. [Macro] Inverse \"Treasury Yield\"\n",
        "**Find the min value of (dgs10-dgs2) after since year 2000 (2000-01-01) and write it down as an answer, round to 1 digit after the decimal point.**"
      ],
      "metadata": {
        "id": "rofDPzGlbNab"
      }
    },
    {
      "cell_type": "code",
      "source": [
        "# Set the start date for data retrieval\n",
        "start = datetime(2000, 1, 1)\n",
        "\n",
        "# Download the interest rate data from FRED\n",
        "dgs2 = pdr.DataReader(\"DGS2\", \"fred\", start=start)\n",
        "dgs10 = pdr.DataReader(\"DGS10\", \"fred\", start=start)\n",
        "\n",
        "# Reset the dataframe index\n",
        "dgs2 = dgs2.reset_index()\n",
        "dgs10 = dgs10.reset_index()\n",
        "\n",
        "# Join the two dataframes on the date index on DATA\n",
        "dgs_2_10 = dgs10.join(dgs2, how='inner', lsuffix='_10', rsuffix='_2')\n",
        "\n",
        "# drop DATE_2 column\n",
        "dgs_2_10.drop('DATE_2', axis=1, inplace=True)\n",
        "\n",
        "# converts DGS10 and DGS2 into numeric values, if '.' is present, convert to NaN\n",
        "dgs_2_10['DGS10'] = pd.to_numeric(dgs_2_10['DGS10'], errors='coerce')\n",
        "dgs_2_10['DGS2'] = pd.to_numeric(dgs_2_10['DGS2'], errors='coerce')\n",
        "# drop rows where either DGS10 or DGS2 is NaN\n",
        "dgs_2_10.dropna(subset=['DGS10', 'DGS2'], inplace=True)\n",
        "\n",
        "# Calculate the difference\n",
        "dgs_2_10['Difference'] = dgs_2_10['DGS10'] - dgs_2_10['DGS2']\n",
        "# Find the minimum value of the difference\n",
        "min_difference = dgs_2_10['Difference'].min()\n",
        "\n",
        "# Print the rounded result\n",
        "print(f\"The minimum value of (DGS10 - DGS2) since 2000 is {min_difference:.1f}\")"
      ],
      "metadata": {
        "colab": {
          "base_uri": "https://localhost:8080/"
        },
        "id": "6qE3Kuo4bhPE",
        "outputId": "a91efc16-fd65-4bc2-805f-0a280efc3503"
      },
      "execution_count": 6,
      "outputs": [
        {
          "output_type": "stream",
          "name": "stdout",
          "text": [
            "The minimum value of (DGS10 - DGS2) since 2000 is -1.1\n"
          ]
        }
      ]
    },
    {
      "cell_type": "markdown",
      "source": [
        "### Question 3. [Index] Which Index is better recently?\n",
        "\n",
        "**Compare S&P 500 and IPC Mexico indexes by the 5 year growth and write down the largest value as an answer (%)**"
      ],
      "metadata": {
        "id": "O-gW__OvcS_C"
      }
    },
    {
      "cell_type": "code",
      "source": [
        "# Define start and end dates for the 5-year period\n",
        "start_date = datetime(2019, 4, 9)\n",
        "end_date = datetime(2024, 4, 9)\n",
        "\n",
        "# Download S&P 500 (^GSPC) and IPC Mexico (^MXX) data from Yahoo Finance\n",
        "sp500 = yf.download(\"^GSPC\", start=start_date, end=end_date)\n",
        "ipc = yf.download(\"^MXX\", start=start_date, end=end_date)\n",
        "\n",
        "# Calculate the 5-year growth for both indexes\n",
        "sp500_start_price = sp500['Adj Close'].iloc[0]\n",
        "sp500_end_price = sp500['Adj Close'].iloc[-1]\n",
        "ipc_start_price = ipc['Adj Close'].iloc[0]\n",
        "ipc_end_price = ipc['Adj Close'].iloc[-1]\n",
        "\n",
        "sp500_growth = ((sp500_end_price - sp500_start_price) / sp500_start_price) * 100\n",
        "ipc_growth = ((ipc_end_price - ipc_start_price) / ipc_start_price) * 100\n",
        "\n",
        "# Determine which index had the highest growth\n",
        "if sp500_growth > ipc_growth:\n",
        "    better_index = \"S&P 500\"\n",
        "    growth_rate = round(sp500_growth)\n",
        "else:\n",
        "    better_index = \"IPC Mexico\"\n",
        "    growth_rate = round(ipc_growth)\n",
        "\n",
        "print(f\"The better index recently is {better_index} with a growth rate of {growth_rate}%.\")"
      ],
      "metadata": {
        "colab": {
          "base_uri": "https://localhost:8080/"
        },
        "id": "H2ICOKnacg9S",
        "outputId": "cb2dc7db-8e14-4a14-9e57-209bad858ec1"
      },
      "execution_count": 7,
      "outputs": [
        {
          "output_type": "stream",
          "name": "stderr",
          "text": [
            "[*********************100%%**********************]  1 of 1 completed\n",
            "[*********************100%%**********************]  1 of 1 completed"
          ]
        },
        {
          "output_type": "stream",
          "name": "stdout",
          "text": [
            "The better index recently is S&P 500 with a growth rate of 81%.\n"
          ]
        },
        {
          "output_type": "stream",
          "name": "stderr",
          "text": [
            "\n"
          ]
        }
      ]
    },
    {
      "cell_type": "markdown",
      "source": [
        "### Question 4. [Stocks OHLCV] 52-weeks range ratio (2023) for the selected stocks\n",
        "\n",
        "\n",
        "**Find the largest range ratio [=(max-min)/max] of Adj.Close prices in 2023**"
      ],
      "metadata": {
        "id": "Fj360v40elO1"
      }
    },
    {
      "cell_type": "code",
      "source": [
        "# Define the list of stock tickers\n",
        "stock_tickers = ['2222.SR', 'BRK-B', 'AAPL', 'MSFT', 'GOOG', 'JPM']\n",
        "\n",
        "# Download daily OHLCV data for 2023 for each stock\n",
        "stock_data = {}\n",
        "for ticker in stock_tickers:\n",
        "    stock_data[ticker] = yf.download(ticker, start='2023-01-01', end='2023-12-31')\n",
        "\n",
        "# Calculate the range ratio for each stock\n",
        "max_min_ratios = {}\n",
        "for ticker, data in stock_data.items():\n",
        "    max_price = data['Adj Close'].max()\n",
        "    min_price = data['Adj Close'].min()\n",
        "    range_ratio = (max_price - min_price) / max_price\n",
        "    max_min_ratios[ticker] = round(range_ratio, 2)\n",
        "\n",
        "# Find the stock with the largest range ratio\n",
        "max_range_stock = max(max_min_ratios, key=max_min_ratios.get)\n",
        "largest_range_ratio = round(max_min_ratios[max_range_stock], 2)\n",
        "\n",
        "print(f\"The stock with the largest range ratio in 2023 is {max_range_stock} with a range ratio of {largest_range_ratio}\")\n"
      ],
      "metadata": {
        "colab": {
          "base_uri": "https://localhost:8080/"
        },
        "id": "lTgP39xCeuD2",
        "outputId": "018c7f18-20eb-408d-c7cb-ed8f6f3440f8"
      },
      "execution_count": 12,
      "outputs": [
        {
          "output_type": "stream",
          "name": "stderr",
          "text": [
            "[*********************100%%**********************]  1 of 1 completed\n",
            "[*********************100%%**********************]  1 of 1 completed\n",
            "[*********************100%%**********************]  1 of 1 completed\n",
            "[*********************100%%**********************]  1 of 1 completed\n",
            "[*********************100%%**********************]  1 of 1 completed\n",
            "[*********************100%%**********************]  1 of 1 completed"
          ]
        },
        {
          "output_type": "stream",
          "name": "stdout",
          "text": [
            "The stock with the largest range ratio in 2023 is MSFT with a range ratio of 0.42\n"
          ]
        },
        {
          "output_type": "stream",
          "name": "stderr",
          "text": [
            "\n"
          ]
        }
      ]
    },
    {
      "cell_type": "markdown",
      "source": [
        "### Question 5. [Stocks] Dividend Yield\n",
        "**Find the largest dividend yield for the same set of stocks**"
      ],
      "metadata": {
        "id": "uwWTlYIJfEVH"
      }
    },
    {
      "cell_type": "code",
      "source": [
        "data = yf.download(\"2222.SR BRK-B AAPL MSFT GOOG JPM\", start=\"2023-01-01\", end=\"2024-01-01\", actions=True)\n",
        "columns = [\"2222.SR\",\"BRK-B\",\"AAPL\",\"MSFT\",\"GOOG\",\"JPM\"]\n",
        "dividend_yields = pd.DataFrame(index=columns, columns=[\"dividend_yield\"])\n",
        "for column in columns:\n",
        "  dividend_yield = data[\"Dividends\"][column].sum()\n",
        "  last_day = data[~data[\"Adj Close\"][column].isna()].index[-1]\n",
        "  dividend_yield /= data.loc[last_day][\"Adj Close\"][column]\n",
        "  dividend_yields.loc[column][\"dividend_yield\"] = dividend_yield\n",
        "# find the largest dividend yield, round to 1 decimal place, and its ticker, then print\n",
        "largest_dividend_yield = round(dividend_yields[\"dividend_yield\"].max()*100,1)\n",
        "print(f\"The largest dividend yield in 2023 is {largest_dividend_yield:.1f}%\")"
      ],
      "metadata": {
        "colab": {
          "base_uri": "https://localhost:8080/"
        },
        "id": "FqOhUiyffKlJ",
        "outputId": "389bdbfa-6522-4380-df8a-91c2e4689b25"
      },
      "execution_count": 14,
      "outputs": [
        {
          "output_type": "stream",
          "name": "stderr",
          "text": [
            "[*********************100%%**********************]  6 of 6 completed"
          ]
        },
        {
          "output_type": "stream",
          "name": "stdout",
          "text": [
            "The largest dividend yield in 2023 is 2.8%\n"
          ]
        },
        {
          "output_type": "stream",
          "name": "stderr",
          "text": [
            "\n"
          ]
        }
      ]
    },
    {
      "cell_type": "markdown",
      "source": [
        "### Question 6. [Exploratory] Investigate new metrics\n",
        "\n",
        "**Free text answer**\n",
        "\n",
        "Download and explore a few additional metrics or time series that might be valuable for your project and write down why (briefly)."
      ],
      "metadata": {
        "id": "vOq4FD2JgpgD"
      }
    },
    {
      "cell_type": "markdown",
      "source": [
        "I would consider exploring the following metrics where integrating them into my analysis could lead to more informed decision-making processes:\n",
        "\n",
        "1. **ESG Scores**: Environmental, Social, and Governance scores are becoming increasingly important as investors look to measure a company's ethical impact and sustainability practices. Analyzing these can help identify companies that are better positioned to withstand regulatory changes and consumer trends towards sustainability.\n",
        "\n",
        "2. **Volatility and Beta**: While commonly used, integrating these metrics more deeply into models can provide insights into risk-adjusted returns, especially in volatile markets. Understanding how stocks react to market changes can help in building more resilient investment portfolios.\n",
        "\n",
        "3. **Relative Strength Index (RSI)**: This is a momentum oscillator that measures the speed and change of price movements. An RSI can help identify overbought or oversold conditions in a stock, offering potential entry or exit signals.\n",
        "\n",
        "4. **Debt-to-Equity Ratio**: This financial ratio indicating the relative proportion of shareholders' equity and debt used to finance a company's assets can be crucial in times of increasing interest rates, as companies with high debt levels might be riskier."
      ],
      "metadata": {
        "id": "zsIAB5PLgtK7"
      }
    },
    {
      "cell_type": "markdown",
      "source": [
        "### Question 7. [Exploratory] Time-driven strategy description around earnings releases\n",
        "\n",
        "**Free text answer**\n",
        "\n",
        "Explore earning dates for the whole month of April - e.g. using YahooFinance earnings calendar (https://finance.yahoo.com/calendar/earnings?from=2024-04-21&to=2024-04-27&day=2024-04-23). Compare with the previous closed earnings (e.g., recent dates with full data https://finance.yahoo.com/calendar/earnings?from=2024-04-07&to=2024-04-13&day=2024-04-08).\n",
        "\n",
        "Describe an analytical strategy/idea (you're not required to implement it) to select a subset companies of interest based on the future events data."
      ],
      "metadata": {
        "id": "egv1tvZfhZzo"
      }
    },
    {
      "cell_type": "markdown",
      "source": [
        "\n",
        "A potential analytical strategy around earnings releases could be to focus on **volatility clustering** and **post-earnings announcement drift (PEAD)**:\n",
        "\n",
        "1. **Data Collection**: Gather data on earnings surprises where companies significantly beat or miss their earnings estimates. This information is usually available immediately after earnings are announced and can be accessed via financial news, reports, or databases.\n",
        "\n",
        "2. **Volatility Assessment**: Analyze the stock's volatility in the days leading up to and following the earnings release. Stocks that show increased volatility post-earnings might indicate market uncertainty or disagreement about the company's valuation, providing trading opportunities.\n",
        "\n",
        "3. **Drift Analysis**: Research indicates that stocks which beat earnings estimates can continue to perform well in the short to medium term. Implementing a strategy to buy these stocks and hold them for a 3- to 6-week period could yield positive returns.\n",
        "\n",
        "4. **Risk Management**: Set up stop-loss orders to manage risks. Given that earnings can also lead to sharp declines if the market reacts negatively, it’s essential to have a predetermined exit strategy.\n",
        "\n",
        "5. **Backtesting**: Before implementing the strategy in real trading scenarios, backtest it against historical data to ensure its effectiveness across different market conditions and earnings seasons."
      ],
      "metadata": {
        "id": "bQy5rvzYhd0O"
      }
    }
  ]
}